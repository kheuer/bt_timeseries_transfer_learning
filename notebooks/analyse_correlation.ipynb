{
 "cells": [
  {
   "cell_type": "code",
   "execution_count": 1,
   "metadata": {},
   "outputs": [
    {
     "name": "stdout",
     "output_type": "stream",
     "text": [
      "success\n"
     ]
    }
   ],
   "source": [
    "import pandas as pd\n",
    "import matplotlib.pyplot as plt\n",
    "import os\n",
    "import pandas as pd\n",
    "from tqdm import tqdm\n",
    "import numpy as np\n",
    "print(\"success\")"
   ]
  },
  {
   "cell_type": "code",
   "execution_count": 2,
   "metadata": {},
   "outputs": [
    {
     "data": {
      "text/plain": [
       "'/home/koos/Documents/timeseries_transfer_learning'"
      ]
     },
     "execution_count": 2,
     "metadata": {},
     "output_type": "execute_result"
    }
   ],
   "source": [
    "if os.getcwd()[-9:] == \"notebooks\":\n",
    "    os.chdir(os.path.dirname(os.getcwd()))\n",
    "os.getcwd()"
   ]
  },
  {
   "cell_type": "code",
   "execution_count": 3,
   "metadata": {},
   "outputs": [],
   "source": [
    "def normalize_list(lst):\n",
    "    lst = np.array(lst)\n",
    "    min_value = min(lst)\n",
    "    max_value = max(lst)\n",
    "    if min_value == max_value:\n",
    "        return lst, (min_value, max_value)\n",
    "    else:\n",
    "        return list(((lst - min_value) / (max_value - min_value))), (min_value, max_value)"
   ]
  },
  {
   "cell_type": "code",
   "execution_count": 4,
   "metadata": {},
   "outputs": [],
   "source": [
    "def get_timeseries(path, TIMESERIES_LENGTH=518, BREAK_BETWEEN_WINDOW_STARTS=300):\n",
    "    files = os.listdir(path)\n",
    "\n",
    "    all_timeseries = []\n",
    "    #all_factors = []\n",
    "    for file_index in tqdm(range(len(files))):\n",
    "        file = files[file_index]\n",
    "\n",
    "        df = pd.read_parquet(os.path.join(path, file))\n",
    "        data = np.array(df).flatten()\n",
    "        if len(data) < TIMESERIES_LENGTH:\n",
    "            continue\n",
    "\n",
    "        for i in range(0, len(data), BREAK_BETWEEN_WINDOW_STARTS):\n",
    "            start_index = i\n",
    "            end_index = start_index + TIMESERIES_LENGTH\n",
    "\n",
    "            if end_index <= len(data):\n",
    "                selection = data[start_index:end_index]\n",
    "                #selection, factors = normalize_list(selection)\n",
    "                all_timeseries.append(selection)\n",
    "                #all_factors.append(factors)\n",
    "    return all_timeseries#, all_factors"
   ]
  },
  {
   "cell_type": "code",
   "execution_count": 7,
   "metadata": {},
   "outputs": [
    {
     "name": "stderr",
     "output_type": "stream",
     "text": [
      "100%|██████████| 893/893 [00:07<00:00, 115.39it/s]\n",
      "100%|██████████| 6631/6631 [00:50<00:00, 130.02it/s]\n",
      "100%|██████████| 49238/49238 [03:31<00:00, 232.95it/s] \n"
     ]
    }
   ],
   "source": [
    "darts = np.array(get_timeseries(\"data/processed/darts\"))\n",
    "darts_mean = np.mean(darts, axis=0)\n",
    "\n",
    "weather = np.array(get_timeseries(\"data/processed/weather\"))\n",
    "weather_mean = np.mean(weather, axis=0)\n",
    "\n",
    "stocks = np.array(get_timeseries(\"data/processed/stocks\"))\n",
    "stocks_mean = np.mean(stocks, axis=0)\n",
    "\n",
    "# Plotting all on the same figure\n",
    "plt.plot(darts_mean, label='Darts')\n",
    "plt.plot(weather_mean, label='Weather')\n",
    "plt.plot(stocks_mean, label='Stocks')\n",
    "\n",
    "# Adding labels, legend, and title\n",
    "plt.xlabel('Timestep')\n",
    "plt.ylabel('Mean Value')\n",
    "plt.title('Combined Mean Timeseries')\n",
    "plt.legend()\n",
    "\n",
    "# Show the plot\n",
    "plt.show()\n"
   ]
  },
  {
   "cell_type": "code",
   "execution_count": null,
   "metadata": {},
   "outputs": [
    {
     "name": "stdout",
     "output_type": "stream",
     "text": [
      "Correlation Matrix for (Stock, Weather, Darts)\n"
     ]
    },
    {
     "data": {
      "text/plain": [
       "array([[ 1.        ,  0.2214926 ,  0.05885982],\n",
       "       [ 0.2214926 ,  1.        , -0.10576488],\n",
       "       [ 0.05885982, -0.10576488,  1.        ]])"
      ]
     },
     "execution_count": 11,
     "metadata": {},
     "output_type": "execute_result"
    }
   ],
   "source": [
    "correlation_matrix = np.corrcoef((stocks_mean, weather_mean, darts_mean))\n",
    "print(\"Correlation Matrix for (Stock, Weather, Darts)\")\n",
    "correlation_matrix"
   ]
  },
  {
   "cell_type": "markdown",
   "metadata": {},
   "source": [
    "# Plot Autocorrelation"
   ]
  },
  {
   "cell_type": "code",
   "execution_count": 6,
   "metadata": {},
   "outputs": [
    {
     "name": "stderr",
     "output_type": "stream",
     "text": [
      "100%|██████████| 893/893 [00:02<00:00, 321.49it/s]\n",
      "100%|██████████| 6631/6631 [00:23<00:00, 285.52it/s]\n",
      "100%|██████████| 49238/49238 [01:40<00:00, 491.75it/s]\n"
     ]
    }
   ],
   "source": [
    "darts = np.array(get_timeseries(\"data/processed/darts\"))\n",
    "weather = np.array(get_timeseries(\"data/processed/weather\"))\n",
    "stocks = np.array(get_timeseries(\"data/processed/stocks\"))"
   ]
  },
  {
   "cell_type": "code",
   "execution_count": 21,
   "metadata": {},
   "outputs": [
    {
     "name": "stderr",
     "output_type": "stream",
     "text": [
      "  0%|          | 0/5000 [00:00<?, ?it/s]"
     ]
    },
    {
     "name": "stderr",
     "output_type": "stream",
     "text": [
      "100%|██████████| 5000/5000 [22:33<00:00,  3.69it/s] \n"
     ]
    }
   ],
   "source": [
    "sample_size = 5000\n",
    "correl_coefs_weather = []\n",
    "correl_coefs_darts = []\n",
    "\n",
    "sample_stocks = np.random.choice(len(stocks), size=sample_size, replace=False)\n",
    "sample_weather = np.random.choice(len(weather), size=sample_size, replace=False)\n",
    "sample_darts = np.random.choice(len(darts), size=sample_size, replace=False)\n",
    "\n",
    "for i in tqdm(range(sample_size)):\n",
    "    for j in range(i, sample_size, 1):\n",
    "        if i == j:\n",
    "            continue\n",
    "\n",
    "        _stock = stocks[sample_stocks[j]]\n",
    "        _weather = weather[sample_weather[j]]\n",
    "        _darts = darts[sample_darts[j]]\n",
    "\n",
    "        correl_coefs_weather.append(np.corrcoef((_stock, _weather))[0, 1])\n",
    "        correl_coefs_darts.append(np.corrcoef((_stock, _darts))[0, 1])"
   ]
  },
  {
   "cell_type": "code",
   "execution_count": 22,
   "metadata": {},
   "outputs": [
    {
     "name": "stdout",
     "output_type": "stream",
     "text": [
      "Correlation between stocks and weather: 0.23654428544863584\n",
      "Correlation between stocks and darts: 0.17710402742572148\n"
     ]
    }
   ],
   "source": [
    "print(\"Correlation between stocks and weather:\", np.mean(np.abs(correl_coefs_weather)))\n",
    "print(\"Correlation between stocks and darts:\", np.mean(np.abs(correl_coefs_darts)))"
   ]
  },
  {
   "cell_type": "code",
   "execution_count": 23,
   "metadata": {},
   "outputs": [
    {
     "data": {
      "image/png": "[encoded data removed]",
      "text/plain": [
       "<Figure size 640x480 with 1 Axes>"
      ]
     },
     "metadata": {},
     "output_type": "display_data"
    },
    {
     "data": {
      "image/png": "[encoded data removed]",
      "text/plain": [
       "<Figure size 640x480 with 1 Axes>"
      ]
     },
     "metadata": {},
     "output_type": "display_data"
    }
   ],
   "source": [
    "plt.hist(np.abs(correl_coefs_weather))\n",
    "plt.title(\"Weather\")\n",
    "plt.show()\n",
    "plt.hist(np.abs(correl_coefs_darts))\n",
    "plt.title(\"Darts\")\n",
    "plt.show()"
   ]
  },
  {
   "cell_type": "code",
   "execution_count": null,
   "metadata": {},
   "outputs": [],
   "source": []
  }
 ],
 "metadata": {
  "kernelspec": {
   "display_name": "base",
   "language": "python",
   "name": "python3"
  },
  "language_info": {
   "codemirror_mode": {
    "name": "ipython",
    "version": 3
   },
   "file_extension": ".py",
   "mimetype": "text/x-python",
   "name": "python",
   "nbconvert_exporter": "python",
   "pygments_lexer": "ipython3",
   "version": "3.11.5"
  }
 },
 "nbformat": 4,
 "nbformat_minor": 2
}
