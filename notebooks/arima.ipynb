{
    "cells": [
        {
            "cell_type": "code",
            "execution_count": null,
            "id": "44f8e7b5-ddd4-4ec8-986c-0ec5d5990c24",
            "metadata": {
                "tags": []
            },
            "outputs": [],
            "source": [
                "import pandas as pd\n",
                "import matplotlib.pyplot as plt\n",
                "import os\n",
                "import sys\n",
                "from tqdm import tqdm\n",
                "import numpy as np\n",
                "from darts.models import AutoARIMA\n",
                "from darts import TimeSeries\n",
                "import torch\n",
                "import json\n",
                "import pickle\n",
                "sys.path.append('..')\n",
                "from metric import *\n",
                "from utils import list_of_timeseries_to_tensor, normalize_list\n",
                "print(\"success\")"
            ]
        },
        {
            "cell_type": "code",
            "execution_count": null,
            "id": "20c9e352-be5f-42a4-95c1-1bec7e393967",
            "metadata": {
                "tags": []
            },
            "outputs": [],
            "source": [
                "if os.getcwd()[-9:] == \"notebooks\":\n",
                "    os.chdir(os.path.dirname(os.getcwd()))\n",
                "os.getcwd()"
            ]
        },
        {
            "cell_type": "code",
            "execution_count": 5,
            "id": "f3f1916e-c8bb-4c7b-ae27-5e33c97b8e3f",
            "metadata": {
                "tags": []
            },
            "outputs": [],
            "source": [
                "def plot(features, targets, prediction):\n",
                "    joint = list(np.array(features.pd_dataframe()).flatten()) + list(np.array(targets.pd_dataframe()).flatten())\n",
                "    plt.plot(joint[-700:], label=\"features\")\n",
                "    plt.plot([None for _ in range(len(joint)- len(targets))] + list(np.array(prediction.pd_dataframe()).flatten()), label=\"pred\")\n",
                "    plt.legend()\n",
                "    plt.show()"
            ]
        },
        {
            "cell_type": "code",
            "execution_count": null,
            "id": "d6dca27b-e980-4d01-9607-01f9c343fcee",
            "metadata": {
                "tags": []
            },
            "outputs": [],
            "source": [
                "test_dataset = []\n",
                "files = os.listdir(\"data/processed/test\")\n",
                "for i in tqdm(range(len(files))):\n",
                "    file = files[i]\n",
                "    df = pd.read_parquet(os.path.join(\"data/processed/test\", file))\n",
                "    series = TimeSeries.from_dataframe(df)\n",
                "    test_dataset.append(series)"
            ]
        },
        {
            "cell_type": "code",
            "execution_count": 6,
            "metadata": {},
            "outputs": [],
            "source": [
                "def get_features_targets(df, features_length, targets_length):\n",
                "    if len(df) < features_length + targets_length:\n",
                "        raise ValueError(\"features and targets can´t be longer than data\")\n",
                "    \n",
                "    min_start_targets = features_length\n",
                "    max_start_targets = len(df) - targets_length\n",
                "    targets_start = np.random.randint(min_start_targets, max_start_targets)\n",
                "    targets_end = targets_start + targets_length\n",
                "    features_start = targets_start - features_length\n",
                "    features, targets = df[features_start:targets_start], df[targets_start:targets_end]\n",
                "    assert len(targets) == targets_length\n",
                "    assert len(features) == features_length\n",
                "    return features, targets"
            ]
        },
        {
            "cell_type": "markdown",
            "id": "d9e72189-43d5-4267-892f-65ee230d44bb",
            "metadata": {},
            "source": [
                "# Get predictions"
            ]
        },
        {
            "cell_type": "code",
            "execution_count": 8,
            "metadata": {},
            "outputs": [],
            "source": [
                "#assert False # dont overwrite progress if not necessary\n",
                "WINDOW_SIZE = 504\n",
                "all_preds = []\n",
                "all_targets = []\n",
                "all_features = []\n",
                "all_factors = []"
            ]
        },
        {
            "cell_type": "code",
            "execution_count": null,
            "id": "d0ae7441-2c7c-473e-b61c-1b13b0f186e8",
            "metadata": {
                "tags": []
            },
            "outputs": [],
            "source": [
                "for i in tqdm(range(len(test_dataset))):\n",
                "    if i < len(all_preds):\n",
                "        continue\n",
                "    series = test_dataset[i]\n",
                "    if len(series) < WINDOW_SIZE + 14:\n",
                "        continue\n",
                "    if len(series) > WINDOW_SIZE + 14:\n",
                "        start = np.random.randint(0, len(series) - WINDOW_SIZE - 14)\n",
                "    else:\n",
                "        start = 0\n",
                "    end = start + WINDOW_SIZE + 14\n",
                "    selection = series.values().flatten()[start:end]\n",
                "    selection, factors = normalize_list(selection, WINDOW_SIZE)\n",
                "    selection = TimeSeries.from_dataframe(pd.DataFrame(selection))\n",
                "    features, targets = selection[:-14], selection[-14:]\n",
                "\n",
                "    model = AutoARIMA(start_p=2,\n",
                "                      max_p=12,\n",
                "                      start_q=2,\n",
                "                      max_q=12,\n",
                "                      d=None,           # let model determine 'd'\n",
                "                      seasonal=True,   # Use SARIMA\n",
                "                      D=None, \n",
                "                      trace=False,\n",
                "                      error_action='ignore',  \n",
                "                      suppress_warnings=True,\n",
                "                      max_order=np.inf,\n",
                "                      stepwise=True, # The stepwise algorithm can be significantly faster than fitting all (or a random subset of) hyper-parameter combinations and is less likely to over-fit the model.\n",
                "                      maxiter=500,\n",
                "                     )\n",
                "    \n",
                "    model.fit(features)\n",
                "    pred = model.predict(len(targets))\n",
                "    #plot(features, targets, pred)\n",
                "    \n",
                "    all_preds.append(pred)\n",
                "    all_targets.append(targets)\n",
                "    all_features.append(features)\n",
                "    all_factors.append(factors)"
            ]
        },
        {
            "cell_type": "code",
            "execution_count": null,
            "metadata": {},
            "outputs": [],
            "source": [
                "with open(f\"results/arima/arima_results_{WINDOW_SIZE}\", \"wb\") as file:\n",
                "    pickle.dump((all_preds, all_targets, all_features, all_factors), file)"
            ]
        },
        {
            "cell_type": "code",
            "execution_count": 9,
            "metadata": {},
            "outputs": [],
            "source": [
                "with open(f\"results/arima/arima_results_{WINDOW_SIZE}\", \"rb\") as file:\n",
                "    all_preds, all_targets, all_features, all_factors = pickle.load(file)"
            ]
        },
        {
            "cell_type": "code",
            "execution_count": 10,
            "id": "6d62bdbe-6df1-4337-b50c-e60ae8d720f8",
            "metadata": {
                "tags": []
            },
            "outputs": [
                {
                    "data": {
                        "text/plain": [
                            "7624"
                        ]
                    },
                    "execution_count": 10,
                    "metadata": {},
                    "output_type": "execute_result"
                }
            ],
            "source": [
                "_preds = list_of_timeseries_to_tensor(all_preds)\n",
                "_targets = list_of_timeseries_to_tensor(all_targets)\n",
                "len(all_preds)"
            ]
        },
        {
            "cell_type": "code",
            "execution_count": null,
            "metadata": {},
            "outputs": [],
            "source": [
                "for i in range(10):\n",
                "    features = list(all_features[i].values().flatten())\n",
                "    targets = list(all_targets[i].values().flatten())\n",
                "    preds = list(all_preds[i].values().flatten())\n",
                "    plt.plot(features + targets)\n",
                "    plt.plot([None for _ in features] + preds)\n",
                "    plt.show()"
            ]
        },
        {
            "cell_type": "code",
            "execution_count": 11,
            "id": "849628a4-e18d-4bbe-9f57-b281377c38ef",
            "metadata": {},
            "outputs": [
                {
                    "name": "stdout",
                    "output_type": "stream",
                    "text": [
                        "WINDOW_SIZE: 504\n",
                        "Loss for L1Loss(): 0.05782635882496834\n",
                        "Loss for MedianAbsoluteError(): 0.042112261056900024\n",
                        "Loss for MSELoss(): 0.011655553244054317\n",
                        "Loss for MedianSquaredError(): 0.0024987126234918833\n",
                        "Loss for HuberLoss(): 0.004032130818814039\n",
                        "Loss for MeanLastValueError(): 0.08430555462837219\n",
                        "Loss for MedianLastValueError(): 0.05821645259857178\n",
                        "Loss for MeanTotalReturnError(): 0.03707563132047653\n",
                        "Loss for MedianTotalReturnError(): 0.02032783254981041\n",
                        "Loss for GeometricMeanDailyReturnError(): 0.006707353680447293\n",
                        "Loss for MeanFinalReturnError(): 0.053743549101764085\n",
                        "Loss for MedianFinalReturnError(): 0.025577385568290013\n",
                        "Market Outperformance Analysis (top 5.0%):\n",
                        "Market Benchmark: 0.004550777352089498\n",
                        "Portfolio Return: 0.025015971281624406\n",
                        "Outperformance: 0.020465193929534907\n",
                        "Loss for BackTestingProfitError(): 0.020465193929534907\n"
                    ]
                }
            ],
            "source": [
                "print(\"WINDOW_SIZE:\", len(all_features[0]))\n",
                "\n",
                "loss_functions = all_metrices\n",
                "\n",
                "\n",
                "for i, fn in enumerate(all_metrices):\n",
                "    if hasattr(fn, \"pass_features_and_normal_factors\"):\n",
                "        loss = fn(_preds, _targets, all_features, all_factors)\n",
                "    else:\n",
                "        loss = fn(_preds, _targets)\n",
                "\n",
                "    print(f\"Loss for {all_metrices[i]}: {loss}\")"
            ]
        },
        {
            "cell_type": "code",
            "execution_count": null,
            "id": "f4fe35cd-1cf5-4314-8b23-8c6c2bd8f8af",
            "metadata": {},
            "outputs": [],
            "source": []
        }
    ],
    "metadata": {
        "kernelspec": {
            "display_name": "Python 3 (ipykernel)",
            "language": "python",
            "name": "python3"
        },
        "language_info": {
            "codemirror_mode": {
                "name": "ipython",
                "version": 3
            },
            "file_extension": ".py",
            "mimetype": "text/x-python",
            "name": "python",
            "nbconvert_exporter": "python",
            "pygments_lexer": "ipython3",
            "version": "3.11.5"
        }
    },
    "nbformat": 4,
    "nbformat_minor": 5
}