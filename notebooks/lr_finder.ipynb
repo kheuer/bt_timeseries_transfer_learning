{
 "cells": [
  {
   "cell_type": "code",
   "execution_count": null,
   "id": "9d1a24ac",
   "metadata": {},
   "outputs": [],
   "source": [
    "import os"
   ]
  },
  {
   "cell_type": "code",
   "execution_count": null,
   "id": "8165fffb",
   "metadata": {},
   "outputs": [],
   "source": [
    "if os.getcwd()[-9:] == \"notebooks\":\n",
    "    os.chdir(os.path.dirname(os.getcwd()))\n",
    "os.getcwd()"
   ]
  },
  {
   "cell_type": "code",
   "execution_count": null,
   "id": "c84ce241-017d-4b4e-a867-8e927d54efc8",
   "metadata": {},
   "outputs": [],
   "source": [
    "import sys\n",
    "import torch\n",
    "from utils.OurNBeatsModel import OurNBeatsModel\n",
    "from utils.OurDataset import OurDataset\n",
    "from torchmetrics.regression import MeanAbsolutePercentageError, WeightedMeanAbsolutePercentageError\n",
    "from utils.metric import *"
   ]
  },
  {
   "cell_type": "markdown",
   "id": "18200a30-44dc-4753-9ade-ac492de2f4b4",
   "metadata": {},
   "source": [
    "# Only Stock"
   ]
  },
  {
   "cell_type": "code",
   "execution_count": null,
   "id": "dcdeb764-05a5-48e2-88f4-12bcfd295d1e",
   "metadata": {},
   "outputs": [],
   "source": [
    "parameters_only_stock = {\n",
    "    # Data Structure\n",
    "    'TIMESERIES_LENGTH': 518,\n",
    "    'BREAK_BETWEEN_WINDOW_STARTS': 300,\n",
    "    'VAL_SHARE': 0.3,   # percent of timeseries to be choosen for validation set\n",
    "    'MAX_SAMPLES_PER_TS': 1,  # fix for this custom data selection approach\n",
    "    'ENRICH_RATIO_WEATHER': 0,\n",
    "    'ENRICH_RATIO_DARTS': 0,\n",
    "    'SAMPLE_SIZE': 1,\n",
    "\n",
    "    # Models\n",
    "    'WINDOW_SIZE': 504,  # kept constant for comparability with timegpt\n",
    "    'EPOCHS': 500,\n",
    "    #'LEARNING_RATE': 0.005874,\n",
    "    'LEARNING_RATE': 0.0012,\n",
    "    'BATCH_SIZE': 2000,\n",
    "    'NUM_STACKS': 5,\n",
    "    'NUM_BLOCKS': 6,\n",
    "    'NUM_LAYERS': 5,\n",
    "    'EXPANSION_COEFFICIENT_DIMENSION': 6,\n",
    "    'TREND_POLYNOMIAL_DEGREE': 3,\n",
    "    'LAYER_WIDTHS': 129,\n",
    "    'LOSS_FN': torch.nn.HuberLoss(delta=0.3),\n",
    "    'OPTIMIZER': \"Adam\",\n",
    "    'DROPOUT': 0.138856,\n",
    "    'EARLYSTOP_PATIENCE': 50,\n",
    "    'EARLYSTOP_MIN_DELTA': 0.00005,\n",
    "    # can be [ReLU,RReLU, PReLU, Softplus, Tanh, SELU, LeakyReLU, Sigmoid]\n",
    "    'ACTIVATION_FN': 'Sigmoid',\n",
    "    'CALLBACKS': [],\n",
    "\n",
    "    # Other\n",
    "    'CPUS': os.cpu_count(),\n",
    "    'MODEL_NAME': \"train_best_params_stocks\"\n",
    "}"
   ]
  },
  {
   "cell_type": "code",
   "execution_count": null,
   "id": "ef862c43-5be6-4c84-bb01-8059e911f965",
   "metadata": {},
   "outputs": [],
   "source": [
    "dataset_only_stock = OurDataset(parameters_only_stock)\n",
    "dataset_only_stock.load_from_files()\n",
    "train_only_stock, val_only_stock = dataset_only_stock.get_datasets()"
   ]
  },
  {
   "cell_type": "code",
   "execution_count": null,
   "id": "4f5c4d1d-4522-45a1-b59a-74544718231e",
   "metadata": {},
   "outputs": [],
   "source": [
    "model_only_stock = OurNBeatsModel(parameters_only_stock, train_dataset=train_only_stock, val_dataset=val_only_stock)\n",
    "model_only_stock.load_model()"
   ]
  },
  {
   "cell_type": "code",
   "execution_count": null,
   "id": "c1a656e2-c927-4c37-916c-e363d3e224b8",
   "metadata": {},
   "outputs": [],
   "source": [
    "nbeats_model_only_stock = model_only_stock.get_model()\n",
    "lr_finder_only_stock = nbeats_model_only_stock.lr_find(series=train_only_stock, val_series=val_only_stock)"
   ]
  },
  {
   "cell_type": "code",
   "execution_count": null,
   "id": "5addba9b-ec20-4805-a9e1-e4eab697f96e",
   "metadata": {},
   "outputs": [],
   "source": [
    "print(lr_finder_only_stock.suggestion())"
   ]
  },
  {
   "cell_type": "code",
   "execution_count": null,
   "id": "922be564-2032-43fe-a4fc-6c40afb37d3a",
   "metadata": {},
   "outputs": [],
   "source": [
    "import matplotlib.pyplot as plt\n",
    "plt.rcParams[\"figure.figsize\"] = (20,10)\n",
    "plt.plot(lr_finder_only_stock.results[\"loss\"])\n",
    "\n",
    "plt.xticks(list(range(len(lr_finder_only_stock.results[\"loss\"])))[0::10],lr_finder_only_stock.results[\"lr\"][0::10], rotation=90)\n",
    "plt.xlabel(\"LR\")\n",
    "plt.ylabel(\"Loss\")\n",
    "\n",
    "plt.show()"
   ]
  },
  {
   "cell_type": "markdown",
   "id": "8c75158b-950e-43f1-8b73-7c871061eab9",
   "metadata": {},
   "source": [
    "# 10% enriched"
   ]
  },
  {
   "cell_type": "code",
   "execution_count": null,
   "id": "29461c66-b59d-46b9-8bb8-c0f73881d0b0",
   "metadata": {},
   "outputs": [],
   "source": [
    "parameters_small_enriched = {\n",
    "    # Data Structure\n",
    "    'TIMESERIES_LENGTH': 252 + 14,\n",
    "    'BREAK_BETWEEN_WINDOW_STARTS': 300,\n",
    "    'VAL_SHARE': 0.3,   # percent of timeseries to be choosen for validation set\n",
    "    'MAX_SAMPLES_PER_TS': 1,  # fix for this custom data selection approach\n",
    "    'ENRICH_RATIO_WEATHER': 0.1,\n",
    "    'ENRICH_RATIO_DARTS': 0.1,\n",
    "    'SAMPLE_SIZE': 1,\n",
    "\n",
    "    # Models\n",
    "    'WINDOW_SIZE': 252,  # kept constant for comparability with timegpt\n",
    "    'EPOCHS': 500,\n",
    "    # 'LEARNING_RATE': 0.002232,\n",
    "    'LEARNING_RATE': 0.002232,\n",
    "    'BATCH_SIZE': 2000,\n",
    "    'NUM_STACKS': 4,\n",
    "    'NUM_BLOCKS': 4,\n",
    "    'NUM_LAYERS': 5,\n",
    "    'EXPANSION_COEFFICIENT_DIMENSION': 4,\n",
    "    'TREND_POLYNOMIAL_DEGREE': 2,\n",
    "    'LAYER_WIDTHS': 136,\n",
    "    'LOSS_FN': torch.nn.HuberLoss(delta=0.3),\n",
    "    'OPTIMIZER': \"Adam\",\n",
    "    'DROPOUT': 0.156693,\n",
    "    'EARLYSTOP_PATIENCE': 50,\n",
    "    'EARLYSTOP_MIN_DELTA': 0.00005,\n",
    "    # can be [ReLU,RReLU, PReLU, Softplus, Tanh, SELU, LeakyReLU, Sigmoid]\n",
    "    'ACTIVATION_FN': 'Sigmoid',\n",
    "    'CALLBACKS': [],\n",
    "\n",
    "    # Other\n",
    "    'CPUS': os.cpu_count(),\n",
    "    'MODEL_NAME': \"train_best_params_all\"\n",
    "}"
   ]
  },
  {
   "cell_type": "code",
   "execution_count": null,
   "id": "938b0eff-c501-4415-acb8-59cffac314d8",
   "metadata": {},
   "outputs": [],
   "source": [
    "dataset_small_enriched = OurDataset(parameters_small_enriched)\n",
    "dataset_small_enriched.load_from_files()\n",
    "train_small_enriched, val_small_enriched = dataset_small_enriched.get_datasets()"
   ]
  },
  {
   "cell_type": "code",
   "execution_count": null,
   "id": "4f9282f9-2ed4-4070-ad32-deaed7c3f469",
   "metadata": {},
   "outputs": [],
   "source": [
    "model_small_enriched = OurNBeatsModel(parameters_small_enriched, train_dataset=train_small_enriched, val_dataset=val_small_enriched)\n",
    "model_small_enriched.load_model()"
   ]
  },
  {
   "cell_type": "code",
   "execution_count": null,
   "id": "52a2157e-cf25-4108-b5ce-7b956b0f1c2b",
   "metadata": {},
   "outputs": [],
   "source": [
    "nbeats_model_small_enriched = model_small_enriched.get_model()\n",
    "lr_finder_small_enriched = nbeats_model_small_enriched.lr_find(series=train_small_enriched, val_series=val_small_enriched)"
   ]
  },
  {
   "cell_type": "code",
   "execution_count": null,
   "id": "40f17b50-23e6-47c0-ab2d-f8de6ca35765",
   "metadata": {},
   "outputs": [],
   "source": [
    "print(lr_finder_small_enriched.suggestion())"
   ]
  },
  {
   "cell_type": "code",
   "execution_count": null,
   "id": "5bae3e9e-e3f7-464b-8313-f7120f786d2f",
   "metadata": {},
   "outputs": [],
   "source": [
    "import matplotlib.pyplot as plt\n",
    "plt.rcParams[\"figure.figsize\"] = (20,10)\n",
    "plt.plot(lr_finder_small_enriched.results[\"loss\"])\n",
    "\n",
    "plt.xticks(list(range(len(lr_finder_small_enriched.results[\"loss\"])))[0::10],lr_finder_small_enriched.results[\"lr\"][0::10], rotation=90)\n",
    "plt.xlabel(\"LR\")\n",
    "plt.ylabel(\"Loss\")\n",
    "\n",
    "plt.show()"
   ]
  },
  {
   "cell_type": "markdown",
   "id": "a56a3e87-f838-4de0-8d63-55c8a163c0f7",
   "metadata": {},
   "source": [
    "# 40% Enriched"
   ]
  },
  {
   "cell_type": "code",
   "execution_count": null,
   "id": "67dfe218-18fd-4f5c-9886-daa5f32cf1ff",
   "metadata": {},
   "outputs": [],
   "source": [
    "parameters_full_enriched = {\n",
    "    # Data Structure\n",
    "    'TIMESERIES_LENGTH': 252 + 14,\n",
    "    'BREAK_BETWEEN_WINDOW_STARTS': 300,\n",
    "    'VAL_SHARE': 0.3,   # percent of timeseries to be choosen for validation set\n",
    "    'MAX_SAMPLES_PER_TS': 1,  # fix for this custom data selection approach\n",
    "    'ENRICH_RATIO_WEATHER': 0.4,\n",
    "    'ENRICH_RATIO_DARTS': 0.4,\n",
    "    'SAMPLE_SIZE': 1,\n",
    "\n",
    "    # Models\n",
    "    'WINDOW_SIZE': 252,  # kept constant for comparability with timegpt\n",
    "    'EPOCHS': 500,\n",
    "    'LEARNING_RATE': 0.001229,\n",
    "    'BATCH_SIZE': 2000,\n",
    "    'NUM_STACKS': 9,\n",
    "    'NUM_BLOCKS': 4,\n",
    "    'NUM_LAYERS': 6,\n",
    "    'EXPANSION_COEFFICIENT_DIMENSION': 6,\n",
    "    'TREND_POLYNOMIAL_DEGREE': 3,\n",
    "    'LAYER_WIDTHS': 379,\n",
    "    'LOSS_FN': torch.nn.HuberLoss(delta=0.3),\n",
    "    'OPTIMIZER': \"Adam\",\n",
    "    'DROPOUT': 0.340826,\n",
    "    'EARLYSTOP_PATIENCE': 50,\n",
    "    'EARLYSTOP_MIN_DELTA': 0.00005,\n",
    "    # can be [ReLU,RReLU, PReLU, Softplus, Tanh, SELU, LeakyReLU, Sigmoid]\n",
    "    'ACTIVATION_FN': 'Sigmoid',\n",
    "    'CALLBACKS': [],\n",
    "\n",
    "    # Other\n",
    "    'CPUS': os.cpu_count(),\n",
    "    'MODEL_NAME': \"train_best_params_all_more_data\"\n",
    "}\n"
   ]
  },
  {
   "cell_type": "code",
   "execution_count": null,
   "id": "e704eb56-d37c-4c9b-a2e7-b1a24e712254",
   "metadata": {},
   "outputs": [],
   "source": [
    "dataset_full_enriched = OurDataset(parameters_full_enriched)\n",
    "dataset_full_enriched.load_from_files()\n",
    "train_full_enriched, val_full_enriched = dataset_full_enriched.get_datasets()"
   ]
  },
  {
   "cell_type": "code",
   "execution_count": null,
   "id": "a1a501ba-ec5d-4e9a-99b0-5a258664a50b",
   "metadata": {},
   "outputs": [],
   "source": [
    "model_full_enriched = OurNBeatsModel(parameters_full_enriched, train_dataset=train_full_enriched, val_dataset=val_full_enriched)\n",
    "model_full_enriched.load_model()"
   ]
  },
  {
   "cell_type": "code",
   "execution_count": null,
   "id": "7d6fd318-4c0d-4d96-bf8f-bb953a30a970",
   "metadata": {},
   "outputs": [],
   "source": [
    "nbeats_model_full_enriched = model_full_enriched.get_model()\n",
    "lr_finder_full_enriched = nbeats_model_full_enriched.lr_find(series=train_full_enriched, val_series=val_full_enriched)"
   ]
  },
  {
   "cell_type": "code",
   "execution_count": null,
   "id": "8bd9411e-954c-41ec-8bbf-d12d9e107764",
   "metadata": {},
   "outputs": [],
   "source": [
    "print(lr_finder_full_enriched.suggestion())"
   ]
  },
  {
   "cell_type": "code",
   "execution_count": null,
   "id": "d8d272dc-cb00-46ed-ade2-f9388ce5e05a",
   "metadata": {},
   "outputs": [],
   "source": [
    "import matplotlib.pyplot as plt\n",
    "plt.rcParams[\"figure.figsize\"] = (20,10)\n",
    "plt.plot(lr_finder_full_enriched.results[\"loss\"])\n",
    "\n",
    "plt.xticks(list(range(len(lr_finder_full_enriched.results[\"loss\"])))[0::10],lr_finder_full_enriched.results[\"lr\"][0::10], rotation=90)\n",
    "plt.xlabel(\"LR\")\n",
    "plt.ylabel(\"Loss\")\n",
    "\n",
    "plt.show()"
   ]
  }
 ],
 "metadata": {
  "kernelspec": {
   "display_name": "Python 3 (ipykernel)",
   "language": "python",
   "name": "python3"
  },
  "language_info": {
   "codemirror_mode": {
    "name": "ipython",
    "version": 3
   },
   "file_extension": ".py",
   "mimetype": "text/x-python",
   "name": "python",
   "nbconvert_exporter": "python",
   "pygments_lexer": "ipython3",
   "version": "3.8.18"
  }
 },
 "nbformat": 4,
 "nbformat_minor": 5
}
